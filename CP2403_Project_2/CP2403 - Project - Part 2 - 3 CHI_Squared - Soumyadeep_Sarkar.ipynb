{
 "cells": [
  {
   "cell_type": "markdown",
   "metadata": {},
   "source": [
    "# First Name: Soumyadeep\n",
    "# Last Name: Sarkar"
   ]
  },
  {
   "cell_type": "markdown",
   "metadata": {},
   "source": [
    "# Import Libraries  "
   ]
  },
  {
   "cell_type": "code",
   "execution_count": null,
   "metadata": {},
   "outputs": [],
   "source": [
    "import pandas as pd\n",
    "import numpy as np\n",
    "import scipy.stats\n",
    "import seaborn as sns\n",
    "import matplotlib.pyplot as plt"
   ]
  },
  {
   "cell_type": "markdown",
   "metadata": {},
   "source": [
    "# Import Data"
   ]
  },
  {
   "cell_type": "code",
   "execution_count": null,
   "metadata": {},
   "outputs": [],
   "source": [
    "bottle = pd.read_csv('bottle.csv', low_memory=False)\n",
    "pd.set_option('display.float_format', lambda x:'%f'%x)"
   ]
  },
  {
   "cell_type": "markdown",
   "metadata": {},
   "source": [
    "# Data management "
   ]
  },
  {
   "cell_type": "code",
   "execution_count": null,
   "metadata": {},
   "outputs": [],
   "source": [
    "# The two variables to be used are the temperature and salinity of the water.\n",
    "bottle[\"T_degC\"] = pd.to_numeric(bottle[\"T_degC\"], errors=\"coerce\")\n",
    "bottle[\"Salnty\"] = pd.to_numeric(bottle[\"Salnty\"], errors=\"coerce\")"
   ]
  },
  {
   "cell_type": "code",
   "execution_count": null,
   "metadata": {},
   "outputs": [],
   "source": [
    "# Plot histogram for water temperature.\n",
    "print(bottle[\"T_degC\"].describe())\n",
    "sns.distplot(bottle[\"T_degC\"].dropna(), kde=False);"
   ]
  },
  {
   "cell_type": "code",
   "execution_count": null,
   "metadata": {},
   "outputs": [],
   "source": [
    "# Plot histogram for salinity.\n",
    "print(bottle[\"Salnty\"].describe())\n",
    "sns.distplot(bottle[\"Salnty\"].dropna(), kde=False);"
   ]
  },
  {
   "cell_type": "code",
   "execution_count": null,
   "metadata": {},
   "outputs": [],
   "source": [
    "# Obtain a subset of the data for water temperatures up to 5 degrees.\n",
    "# We are only interested in the relationship to salinity for very cold water.\n",
    "sub1 = bottle[(bottle[\"T_degC\"] < 5)].copy()\n",
    "sns.distplot(sub1[\"T_degC\"].dropna(), kde=False);"
   ]
  },
  {
   "cell_type": "code",
   "execution_count": null,
   "metadata": {},
   "outputs": [],
   "source": [
    "# Obtain another subset containing only the required variables and with no null values.\n",
    "sub2 = sub1[[\"T_degC\", \"Salnty\"]].dropna()"
   ]
  },
  {
   "cell_type": "code",
   "execution_count": null,
   "metadata": {},
   "outputs": [],
   "source": [
    "%matplotlib inline\n",
    "# Plot water temperature vs salinity.\n",
    "# The graph shows a decreasing relationship between these two variables.\n",
    "sns.lineplot(x=\"T_degC\", y=\"Salnty\", data=sub2)\n",
    "plt.xlabel(\"Temperature\")\n",
    "plt.ylabel(\"Salinity\")\n",
    "plt.title(\"Temperature of Water vs Salt Content\");"
   ]
  },
  {
   "cell_type": "code",
   "execution_count": null,
   "metadata": {},
   "outputs": [],
   "source": [
    "# Cut water temperature into 4 categories with labels from 1 to 4.\n",
    "# As there are no temperature values < 1, the 0-1 and 1-2 bins are combined.\n",
    "sub2[\"TEMP_CAT\"] = pd.cut(sub2[\"T_degC\"], [0, 2, 3, 4, 5], labels=[1, 2, 3, 4])\n",
    "sub2[\"TEMP_CAT\"].value_counts(sort=False, dropna=False)"
   ]
  },
  {
   "cell_type": "code",
   "execution_count": null,
   "metadata": {},
   "outputs": [],
   "source": [
    "# Cut water salinity into 2 categories and digitize.\n",
    "sub2[\"SAL_CAT\"] = np.digitize(sub2[\"Salnty\"], bins=[34.5])\n",
    "sub2[\"SAL_CAT\"].value_counts(sort=False, dropna=False)"
   ]
  },
  {
   "cell_type": "markdown",
   "metadata": {},
   "source": [
    "# Chart/Plot"
   ]
  },
  {
   "cell_type": "code",
   "execution_count": null,
   "metadata": {},
   "outputs": [],
   "source": [
    "%matplotlib inline\n",
    "# Visualize relationship between temperature and salinity with a box plot.\n",
    "# The box plot shows that as temperature increases, the percentage of salinity values above 34.5 decreases.\n",
    "sns.factorplot(x=\"TEMP_CAT\", y=\"SAL_CAT\", data=sub2, kind=\"bar\", ci=None);"
   ]
  },
  {
   "cell_type": "markdown",
   "metadata": {},
   "source": [
    "# CHI_Squared"
   ]
  },
  {
   "cell_type": "code",
   "execution_count": null,
   "metadata": {},
   "outputs": [],
   "source": [
    "# Create cross-table between salinity and temperature.\n",
    "ct1 = pd.crosstab(sub2[\"SAL_CAT\"], sub2[\"TEMP_CAT\"])\n",
    "print(ct1)"
   ]
  },
  {
   "cell_type": "code",
   "execution_count": null,
   "metadata": {},
   "outputs": [],
   "source": [
    "# Convert values to percentages.\n",
    "colsum=ct1.sum(axis=0)\n",
    "colpct=ct1/colsum\n",
    "print(colpct)"
   ]
  },
  {
   "cell_type": "code",
   "execution_count": null,
   "metadata": {},
   "outputs": [],
   "source": [
    "# Perform chi-squared contingency test.\n",
    "# Chi-squared value: 15988.2675\n",
    "# p-value: 0.0\n",
    "# p-value is < 0.05, reject null hypothesis.\n",
    "print('chi-square value, p value, expected counts')\n",
    "cs1 = scipy.stats.chi2_contingency(ct1)\n",
    "print(cs1)"
   ]
  },
  {
   "cell_type": "code",
   "execution_count": null,
   "metadata": {},
   "outputs": [],
   "source": [
    "# Perform post-hoc analysis between different temperature categories.\n",
    "# All p-values are < 0.0083 (0.05 / 6), therefore there is a significant\n",
    "# difference in salinity readings above 34.5 between all temperature categories.\n",
    "sub3 = sub2.copy()\n",
    "cat = [1, 2, 3, 4]\n",
    "\n",
    "for x in range(0,len(cat)-1):\n",
    "    for y in range(x+1,len(cat)):\n",
    "        recode = { cat[x]:cat[x], cat[y]:cat[y]}\n",
    "        sub3['temp'] = sub3['TEMP_CAT'].map(recode)\n",
    "        cont=pd.crosstab(sub3['SAL_CAT'], sub3['temp'])\n",
    "        cs= scipy.stats.chi2_contingency(cont)\n",
    "        print(\"\\n\", cat[x], \" versus \", cat[y],\n",
    "              \"Chi value: \", cs[0], \"\\t\\tp value: \", cs[1])\n"
   ]
  }
 ],
 "metadata": {
  "kernelspec": {
   "display_name": "Python 3",
   "language": "python",
   "name": "python3"
  },
  "language_info": {
   "codemirror_mode": {
    "name": "ipython",
    "version": 3
   },
   "file_extension": ".py",
   "mimetype": "text/x-python",
   "name": "python",
   "nbconvert_exporter": "python",
   "pygments_lexer": "ipython3",
   "version": "3.6.5"
  }
 },
 "nbformat": 4,
 "nbformat_minor": 2
}
