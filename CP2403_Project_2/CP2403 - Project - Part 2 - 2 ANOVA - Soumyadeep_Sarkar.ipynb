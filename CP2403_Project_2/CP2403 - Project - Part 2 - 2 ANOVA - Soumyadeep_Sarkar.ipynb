{
 "cells": [
  {
   "cell_type": "markdown",
   "metadata": {},
   "source": [
    "# First Name: Soumyadeep\n",
    "# Last Name: Sarkar"
   ]
  },
  {
   "cell_type": "markdown",
   "metadata": {},
   "source": [
    "# Import Libraries  "
   ]
  },
  {
   "cell_type": "code",
   "execution_count": null,
   "metadata": {},
   "outputs": [],
   "source": [
    "import pandas as pd\n",
    "import numpy as np\n",
    "import seaborn as sns\n",
    "import statsmodels.formula.api as smf\n",
    "import statsmodels.stats.multicomp as multi \n",
    "import matplotlib.pyplot as plt"
   ]
  },
  {
   "cell_type": "markdown",
   "metadata": {},
   "source": [
    "# Import Data"
   ]
  },
  {
   "cell_type": "code",
   "execution_count": null,
   "metadata": {},
   "outputs": [],
   "source": [
    "bottle = pd.read_csv('bottle.csv', low_memory=False)\n",
    "pd.set_option('display.float_format', lambda x:'%f'%x)\n",
    "bottle.head(10);"
   ]
  },
  {
   "cell_type": "markdown",
   "metadata": {},
   "source": [
    "# Data management "
   ]
  },
  {
   "cell_type": "code",
   "execution_count": null,
   "metadata": {},
   "outputs": [],
   "source": [
    "# The two variables used will be depth and phosphate concentration.\n",
    "bottle[\"Depthm\"] = pd.to_numeric(bottle[\"Depthm\"])\n",
    "bottle[\"PO4uM\"] = pd.to_numeric(bottle[\"PO4uM\"])"
   ]
  },
  {
   "cell_type": "code",
   "execution_count": null,
   "metadata": {},
   "outputs": [],
   "source": [
    "# Initial histogram of depth.\n",
    "sns.distplot(bottle[\"Depthm\"], kde=False);"
   ]
  },
  {
   "cell_type": "code",
   "execution_count": null,
   "metadata": {},
   "outputs": [],
   "source": [
    "# Histogram of phosphate concentration.\n",
    "sns.distplot(bottle[\"PO4uM\"], kde=False);"
   ]
  },
  {
   "cell_type": "code",
   "execution_count": null,
   "metadata": {},
   "outputs": [],
   "source": [
    "# Obtain a subset limited to 1000m as there are very few values for depth beyond this point.\n",
    "sub1 = bottle[(bottle[\"Depthm\"] < 1000)].copy()"
   ]
  },
  {
   "cell_type": "code",
   "execution_count": null,
   "metadata": {},
   "outputs": [],
   "source": [
    "# Distplot after limiting.\n",
    "sns.distplot(sub1[\"Depthm\"], kde=False);"
   ]
  },
  {
   "cell_type": "code",
   "execution_count": null,
   "metadata": {},
   "outputs": [],
   "source": [
    "# Split depth into 3 categories, shallow, middle, and deep.\n",
    "sub1[\"DEPTH_CAT\"] = pd.cut(sub1[\"Depthm\"], [0, 200, 400, 600, 1000], labels=[\"shallow\", \"kinda shallow\", \"kinda deep\", \"deep\"])\n",
    "sub1[\"DEPTH_CAT\"].value_counts(sort=False)"
   ]
  },
  {
   "cell_type": "code",
   "execution_count": null,
   "metadata": {},
   "outputs": [],
   "source": [
    "# Create a new subset containing only the required variables and drop nan values.\n",
    "sub2 = sub1[[\"PO4uM\", \"DEPTH_CAT\"]].dropna()"
   ]
  },
  {
   "cell_type": "markdown",
   "metadata": {},
   "source": [
    "# Box Plot"
   ]
  },
  {
   "cell_type": "code",
   "execution_count": null,
   "metadata": {
    "scrolled": true
   },
   "outputs": [],
   "source": [
    "# Plot phosphate concentration vs water depth to visualize relationship.\n",
    "# The graph shows an increasing relationship between depth and phosphate concentration.\n",
    "%matplotlib inline\n",
    "\n",
    "sns.boxplot(x=\"DEPTH_CAT\", y=\"PO4uM\", data=sub2)\n",
    "plt.xlabel(\"DEPTH_CAT\")\n",
    "plt.ylabel(\"PO4uM\")\n",
    "plt.title(\"Box plot of water depth vs phosphate concentration\");"
   ]
  },
  {
   "cell_type": "markdown",
   "metadata": {},
   "source": [
    "# ANOVA"
   ]
  },
  {
   "cell_type": "code",
   "execution_count": null,
   "metadata": {},
   "outputs": [],
   "source": [
    "# Perform ANOVA variance test between water depth and phosphate concentration.\n",
    "# R-squared: 0.65\n",
    "# F-statistic: 2.411e+05\n",
    "# p-value: 0.0\n",
    "# p-value is < 0.05, so we reject the null hypothesis.\n",
    "model1 = smf.ols(formula='PO4uM ~ C(DEPTH_CAT)', data=sub2).fit()\n",
    "print (model1.summary())"
   ]
  },
  {
   "cell_type": "code",
   "execution_count": null,
   "metadata": {},
   "outputs": [],
   "source": [
    "print ('means for PO4uM by depth category:')\n",
    "m2 = sub2.groupby('DEPTH_CAT').mean()\n",
    "print (m2)"
   ]
  },
  {
   "cell_type": "code",
   "execution_count": null,
   "metadata": {},
   "outputs": [],
   "source": [
    "print ('means for PO4uM by depth category:')\n",
    "m2 = sub2.groupby('DEPTH_CAT').std()\n",
    "print (m2)"
   ]
  },
  {
   "cell_type": "code",
   "execution_count": null,
   "metadata": {},
   "outputs": [],
   "source": [
    "# Perform Tukey post hoc test to analyze differences between categories.\n",
    "# New p-value: 0.05 / 6 = 0.0083\n",
    "mc1 = multi.MultiComparison(sub2['PO4uM'], sub2['DEPTH_CAT'])\n",
    "res1 = mc1.tukeyhsd()\n",
    "print(res1.summary())"
   ]
  }
 ],
 "metadata": {
  "kernelspec": {
   "display_name": "Python 3",
   "language": "python",
   "name": "python3"
  },
  "language_info": {
   "codemirror_mode": {
    "name": "ipython",
    "version": 3
   },
   "file_extension": ".py",
   "mimetype": "text/x-python",
   "name": "python",
   "nbconvert_exporter": "python",
   "pygments_lexer": "ipython3",
   "version": "3.6.5"
  }
 },
 "nbformat": 4,
 "nbformat_minor": 2
}
