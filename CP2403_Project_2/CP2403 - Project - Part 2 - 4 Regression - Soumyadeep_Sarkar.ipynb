{
 "cells": [
  {
   "cell_type": "markdown",
   "metadata": {},
   "source": [
    "# First Name: Soumyadeep \n",
    "# Last Name: Sarkar"
   ]
  },
  {
   "cell_type": "markdown",
   "metadata": {},
   "source": [
    "# Import Libraries  "
   ]
  },
  {
   "cell_type": "code",
   "execution_count": null,
   "metadata": {},
   "outputs": [],
   "source": [
    "import pandas as pd\n",
    "import numpy as np\n",
    "import seaborn as sns\n",
    "import matplotlib.pyplot as plt\n",
    "import statsmodels.formula.api as smf\n",
    "import scipy"
   ]
  },
  {
   "cell_type": "markdown",
   "metadata": {},
   "source": [
    "# Import Data"
   ]
  },
  {
   "cell_type": "code",
   "execution_count": null,
   "metadata": {},
   "outputs": [],
   "source": [
    "pd.set_option('display.float_format', lambda x:'%.2f'%x)\n",
    "bottle = pd.read_csv('bottle.csv', low_memory=False)\n",
    "bottle.head()"
   ]
  },
  {
   "cell_type": "markdown",
   "metadata": {},
   "source": [
    "# Data management "
   ]
  },
  {
   "cell_type": "code",
   "execution_count": null,
   "metadata": {
    "scrolled": true
   },
   "outputs": [],
   "source": [
    "# Convert all variables to numeric.\n",
    "bottle[\"T_degC\"] = pd.to_numeric(bottle[\"T_degC\"], errors=\"coerce\")\n",
    "bottle[\"O2Sat\"] = pd.to_numeric(bottle[\"O2Sat\"], errors=\"coerce\")\n",
    "bottle[\"Phaeop\"] = pd.to_numeric(bottle[\"Phaeop\"], errors=\"coerce\")"
   ]
  },
  {
   "cell_type": "code",
   "execution_count": null,
   "metadata": {},
   "outputs": [],
   "source": [
    "# Obtain subset of temperature up to 25 degrees.\n",
    "# This limiting is also to cut off outliers.\n",
    "sub1 = bottle[(bottle[\"T_degC\"] > 0) & (bottle[\"T_degC\"] < 25)].copy()\n",
    "sns.distplot(sub1[\"T_degC\"].dropna(), kde=False);"
   ]
  },
  {
   "cell_type": "code",
   "execution_count": null,
   "metadata": {},
   "outputs": [],
   "source": [
    "# Obtain subset of oxygen saturation up to 140%.\n",
    "# This value was chosen because it is the maximum \n",
    "# value for which a significant number of records exist, readings above this are considered outliers.\n",
    "sub2 = sub1[(sub1[\"O2Sat\"] < 140)].copy()\n",
    "sns.distplot(sub2[\"O2Sat\"].dropna(), kde=False);"
   ]
  },
  {
   "cell_type": "code",
   "execution_count": null,
   "metadata": {},
   "outputs": [],
   "source": [
    "# Obtain subset of phaeophytin concentration between 0 and 1.\n",
    "# Again, this cutting of values is to reduce outliers.\n",
    "sub3 = sub2[(sub2[\"Phaeop\"] > 0) & (sub2[\"Phaeop\"] < 1)].copy()\n",
    "sns.distplot(sub3[\"Phaeop\"].dropna(), kde=False);"
   ]
  },
  {
   "cell_type": "code",
   "execution_count": null,
   "metadata": {},
   "outputs": [],
   "source": [
    "# Obtain another subset containing only the required variables and with no null values.\n",
    "sub4 = sub3[[\"T_degC\", \"O2Sat\", \"Phaeop\"]].dropna()"
   ]
  },
  {
   "cell_type": "markdown",
   "metadata": {},
   "source": [
    "# Correlation between each explantory variable and response variable (y=total_cases)"
   ]
  },
  {
   "cell_type": "code",
   "execution_count": null,
   "metadata": {},
   "outputs": [],
   "source": [
    "# There is a strong positive correlation between temperature and oxygen saturation.\n",
    "print(\"Association between temperature and oxygen saturation.\")\n",
    "print(scipy.stats.pearsonr(sub4[\"T_degC\"], sub4[\"O2Sat\"]))"
   ]
  },
  {
   "cell_type": "code",
   "execution_count": null,
   "metadata": {},
   "outputs": [],
   "source": [
    "# There is a weak positive correlation between phaophytin concentration and oxygen saturation.\n",
    "print(\"Association between temperature and oxygen saturation.\")\n",
    "print(scipy.stats.pearsonr(sub4[\"Phaeop\"], sub4[\"O2Sat\"]))"
   ]
  },
  {
   "cell_type": "markdown",
   "metadata": {
    "collapsed": true
   },
   "source": [
    "# Scatter plot between each explantory variable and response variable (y=total_cases)"
   ]
  },
  {
   "cell_type": "code",
   "execution_count": null,
   "metadata": {},
   "outputs": [],
   "source": [
    "# Scatter plot of correlation between temperature (x) and oxygen saturation (y).\n",
    "plt.figure()\n",
    "scat = sns.regplot(x=\"T_degC\", y=\"O2Sat\", fit_reg=True, order=1, data=sub4)\n",
    "plt.xlabel(\"Temperature\")\n",
    "plt.ylabel(\"Oxygen Saturation\")\n",
    "plt.title(\"Scatterplot for the Association Between Temperature\\nand Oxygen Saturation\");"
   ]
  },
  {
   "cell_type": "code",
   "execution_count": null,
   "metadata": {},
   "outputs": [],
   "source": [
    "# Scatter plot of correlation between phaeophytin concentration (x) and oxygen saturation (y).\n",
    "plt.figure()\n",
    "scat = sns.regplot(x=\"Phaeop\", y=\"O2Sat\", fit_reg=True, data=sub4)\n",
    "plt.xlabel(\"Phaeophytin Concentration\")\n",
    "plt.ylabel(\"Oxygen Saturation\")\n",
    "plt.title(\"Scatterplot for the Association Between Phaeophytin\\nConcentration and Oxygen Saturation\");"
   ]
  },
  {
   "cell_type": "code",
   "execution_count": null,
   "metadata": {},
   "outputs": [],
   "source": [
    "# Center all variables by subtracting mean values.\n",
    "sub4[\"T_degC_c\"] = (sub4[\"T_degC\"] - sub4[\"T_degC\"].mean())\n",
    "sub4[\"O2Sat_c\"] = (sub4[\"O2Sat\"] - sub4[\"O2Sat\"].mean())\n",
    "sub4[\"Phaeop_c\"] = (sub4[\"Phaeop\"] - sub4[\"Phaeop\"].mean())"
   ]
  },
  {
   "cell_type": "markdown",
   "metadata": {},
   "source": [
    "# Regression Analysis"
   ]
  },
  {
   "cell_type": "code",
   "execution_count": null,
   "metadata": {},
   "outputs": [],
   "source": [
    "# Perform regression analysis of how O2Sat_c is affected by T_degC_c and Phaeop_c.\n",
    "reg1 = smf.ols(\"O2Sat_c ~ T_degC_c + Phaeop_c\", data=sub4).fit()\n",
    "print (reg1.summary())"
   ]
  },
  {
   "cell_type": "code",
   "execution_count": null,
   "metadata": {},
   "outputs": [],
   "source": [
    "# R-squared: 0.752\n",
    "# p-value: 0.0\n",
    "# equation: O2Sat_c = -8.618e-13 + 7.0153(T_degC_c) + 25.5296(Phaeop_c)"
   ]
  },
  {
   "cell_type": "markdown",
   "metadata": {},
   "source": [
    "# qq plot "
   ]
  },
  {
   "cell_type": "code",
   "execution_count": null,
   "metadata": {},
   "outputs": [],
   "source": [
    "# qqplot of regression analysis.\n",
    "# The points fit the line well for -2 < x < 2.\n",
    "import statsmodels.api as sm\n",
    "fig1 = sm.qqplot(reg1.resid, line=\"r\")"
   ]
  },
  {
   "cell_type": "markdown",
   "metadata": {},
   "source": [
    "# standardized residual plots"
   ]
  },
  {
   "cell_type": "code",
   "execution_count": null,
   "metadata": {},
   "outputs": [],
   "source": [
    "# Residual plot of regression analysis. \n",
    "# The points appear to be evenly distributed above and below zero.\n",
    "stdres = pd.DataFrame(reg1.resid_pearson)\n",
    "\n",
    "plt.figure()\n",
    "plt.plot(stdres, 'o', ls='None')\n",
    "l = plt.axhline(y=0, color='r')\n",
    "plt.ylabel('Standardized Residual')\n",
    "plt.xlabel('Observation Number')\n",
    "plt.title(\"Residual Plot of Regression Analysis\\nfor O2Sat_c ~ T_degC_c + Phaeop_c\");"
   ]
  },
  {
   "cell_type": "code",
   "execution_count": null,
   "metadata": {},
   "outputs": [],
   "source": [
    "# Calculate percentage of residuals with more than 2 standard deviation.\n",
    "# Value is < 5%, which is the maximum that can be considered a good fit.\n",
    "percentage_over2sd = (np.count_nonzero( stdres[0] > 2) + np.count_nonzero( stdres[0] < -2))/len(stdres)*100\n",
    "print (percentage_over2sd)"
   ]
  },
  {
   "cell_type": "code",
   "execution_count": null,
   "metadata": {},
   "outputs": [],
   "source": [
    "# Calculate percentage of residuals with more than 2.5 standard deviation.\n",
    "# Value is < 1%, which is the maximum that can be considered a good fit.\n",
    "percentage_over2_5sd = (np.count_nonzero( stdres[0] > 2.5) + np.count_nonzero( stdres[0] < -2.5))/len(stdres)*100\n",
    "print (percentage_over2_5sd)"
   ]
  }
 ],
 "metadata": {
  "kernelspec": {
   "display_name": "Python 3",
   "language": "python",
   "name": "python3"
  },
  "language_info": {
   "codemirror_mode": {
    "name": "ipython",
    "version": 3
   },
   "file_extension": ".py",
   "mimetype": "text/x-python",
   "name": "python",
   "nbconvert_exporter": "python",
   "pygments_lexer": "ipython3",
   "version": "3.6.5"
  }
 },
 "nbformat": 4,
 "nbformat_minor": 2
}
